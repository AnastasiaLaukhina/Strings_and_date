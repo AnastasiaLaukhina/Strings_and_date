{
 "cells": [
  {
   "cell_type": "markdown",
   "id": "05b0e501",
   "metadata": {},
   "source": [
    "# Обработка табличных данных без Pandas\n",
    "\n",
    "## Используемые библиотеки:\n",
    "- openpyxl\n",
    "- dateutil\n",
    "- datetime"
   ]
  },
  {
   "cell_type": "markdown",
   "id": "0d457426",
   "metadata": {},
   "source": [
    "Есть некие абстранктные данные, откуда без подключения pandas будем извлекать и преобразовывать необходимую нам информацию:"
   ]
  },
  {
   "cell_type": "code",
   "execution_count": 1,
   "id": "907e8a5e",
   "metadata": {
    "scrolled": true
   },
   "outputs": [
    {
     "name": "stdout",
     "output_type": "stream",
     "text": [
      "['\\ufeffx;y;z;d;e\\n', 'sdf;345;49,28571429;01.март;45\\n', 'asdfasd;345;49,28571429;02.март;\\n', 'asdgad;56;8;03.март;35\\n', 'gsfg;78;11,14285714;04.март;\\n', 'sdfgsd;2;0,285714286;05.март;\\n', 'sdfgsd;54;7,714285714;06.март;3,14']\n"
     ]
    }
   ],
   "source": [
    "# Чтение файла csv возможно и без подключения библиотек.\n",
    "# Файл в формате UTF-8 (желательно, особенно, если есть кириллица)\n",
    "\n",
    "f = open(\n",
    "    '/Users/Anastasia/Documents/Бизнес_анализ_Python/code/Занятие 1/Книга.csv', encoding='utf-8'\n",
    "    )\n",
    "lines = f.readlines() # Читаем открытый файл в список, содержащий элементы типа str\n",
    "print(lines)"
   ]
  },
  {
   "cell_type": "markdown",
   "id": "cd2e57f2",
   "metadata": {},
   "source": [
    "Для системы windows, где слэши такого \\ вида, в аргумент функции open путь к файлу необходимо указывать таким образом:\n",
    "\n",
    "`f = open(r\"путь к файлу\", 'r')`\n",
    "\n",
    "Это связано с тем, что некоторые сочетания с \\ являются регулярными, а сам левый слэш - знаком экранирования в python."
   ]
  },
  {
   "cell_type": "code",
   "execution_count": 2,
   "id": "3a83eb94",
   "metadata": {},
   "outputs": [
    {
     "data": {
      "text/plain": [
       "'gsfg;78;11,14285714;04.март;\\n'"
      ]
     },
     "execution_count": 2,
     "metadata": {},
     "output_type": "execute_result"
    }
   ],
   "source": [
    "lines[4] # можно обращаться к элементам как в обычном списке"
   ]
  },
  {
   "cell_type": "code",
   "execution_count": 3,
   "id": "1151472f",
   "metadata": {},
   "outputs": [
    {
     "data": {
      "text/plain": [
       "['sdfgsd', '54', '7,714285714', '06.март', '3,14']"
      ]
     },
     "execution_count": 3,
     "metadata": {},
     "output_type": "execute_result"
    }
   ],
   "source": [
    "lines[-1].split(';') # так как разделитель ;, можем разлить строку на список методом split()"
   ]
  },
  {
   "cell_type": "code",
   "execution_count": 4,
   "id": "c9e34c5a",
   "metadata": {},
   "outputs": [
    {
     "data": {
      "text/plain": [
       "'11,14285714'"
      ]
     },
     "execution_count": 4,
     "metadata": {},
     "output_type": "execute_result"
    }
   ],
   "source": [
    "lines[4].split(';')[-3] # И можем обращаться далее к разделенному списку по индексу"
   ]
  },
  {
   "cell_type": "code",
   "execution_count": 5,
   "id": "c2831afd",
   "metadata": {},
   "outputs": [
    {
     "name": "stdout",
     "output_type": "stream",
     "text": [
      "54\n",
      "54.0\n"
     ]
    }
   ],
   "source": [
    "line = lines[-1].split(';')\n",
    "print(int(line[1])) # Преобразовываем в целое число\n",
    "print(float(line[1])) # Преобразовываем в вещественное число"
   ]
  },
  {
   "cell_type": "code",
   "execution_count": 6,
   "id": "45a1702a",
   "metadata": {},
   "outputs": [
    {
     "data": {
      "text/plain": [
       "'7,714285714'"
      ]
     },
     "execution_count": 6,
     "metadata": {},
     "output_type": "execute_result"
    }
   ],
   "source": [
    "line[2]"
   ]
  },
  {
   "cell_type": "markdown",
   "id": "e1adaa49",
   "metadata": {},
   "source": [
    "Но мы не сможем преобразовать `line[2]` сразу в тип float, так как в вещественном типе числа разделителем является точка (.), А не запятая (,). Поэтому ее необходимо заменить методом `replace('то, что надо заменить', 'то, на что надо заменить')`:"
   ]
  },
  {
   "cell_type": "code",
   "execution_count": 7,
   "id": "b2eaa06e",
   "metadata": {},
   "outputs": [
    {
     "data": {
      "text/plain": [
       "7.714285714"
      ]
     },
     "execution_count": 7,
     "metadata": {},
     "output_type": "execute_result"
    }
   ],
   "source": [
    "float(line[2].replace(',', '.')) # Записываем все в одну строчку"
   ]
  },
  {
   "cell_type": "code",
   "execution_count": 8,
   "id": "5815a88f",
   "metadata": {},
   "outputs": [
    {
     "data": {
      "text/plain": [
       "3.14"
      ]
     },
     "execution_count": 8,
     "metadata": {},
     "output_type": "execute_result"
    }
   ],
   "source": [
    "float(line[-1].replace(',', '.')) # Знак переноса, стоящий в конце числа, преобразуется без проблем"
   ]
  },
  {
   "cell_type": "markdown",
   "id": "4a643893",
   "metadata": {},
   "source": [
    "Есть датасет с автомобилями, скачанный с сайта avto.ru с необработанными данными. Нам нужно преобразовать:\n",
    "- пробег - число с пробелом, разделяющим тысячи, привести обычный вид, и заменить \"новый\" на 0;\n",
    "- цена со знаком рубля на конце - привести в обычный вид;\n",
    "- в модели убрать porcshe 911, так как эта запись повторяется в каждой колонке;\n",
    "- двигатель - разделить и сделать 3 колонки: объем двс, мощность, тип топлива"
   ]
  },
  {
   "cell_type": "code",
   "execution_count": 9,
   "id": "f2866f8f",
   "metadata": {},
   "outputs": [
    {
     "name": "stdout",
     "output_type": "stream",
     "text": [
      "['0;72 500 км;Porsche 911  VI (997) Carrera S;3 000 000 ₽;2005;механика;кабриолет;задний;серый;3.8 л/355л.с./Бензин\\n', '1;1 500 км;Porsche 911  VIII (992) Carrera 4S;15 500 000 ₽;2019;робот;кабриолет;полный;серый;3.0 л/450л.с./Бензин\\n']\n"
     ]
    }
   ],
   "source": [
    "# Открываем файл и читаем его:\n",
    "\n",
    "f = open(\n",
    "        '/Users/Anastasia/Documents/Бизнес_анализ_Python/code/Датасеты/Porsche.csv', \n",
    "        encoding = 'utf-8' # Если ругается на кодировку, добавляем агрумент encoding = 'utf-8'\n",
    ")\n",
    "\n",
    "# f.read(1) # пропустили первый служебный символ (\\ufeff), чтобы не мешался \n",
    "# read(1) читает 1 символ и так как мы не положили его в переменную, он улетел в никуда\n",
    "# Дальше read() будет читать после 1 символа, что бы мы в () не положили.\n",
    "# То есть read() действует как виртуальный \"курсор\", где остановился, оттуда дальше и читает\n",
    "\n",
    "f.readline() # Аналогично с read(), только readline() читает строку csv-файла\n",
    "# То есть этим кодом мы отправляем первую строчку в никуда, так как не записывает ее в переменную.\n",
    "\n",
    "# В следующей опериции, когда мы записываем данные в переменную, \"курсор\" читает с предыдущего места остановки:\n",
    "cars = f.readlines()\n",
    "\n",
    "print(cars[:2]) # Как видим, шапки в списке нет"
   ]
  },
  {
   "cell_type": "markdown",
   "id": "73a005b1",
   "metadata": {},
   "source": [
    "UTF-8 - самый растпространенный тип кодировки, который коддерживает кириллицу. Если в дате содержатся русские буквы, то в случае, когда кодировка отлична от UTF-8, русские буквы заменятся другими символами.\n",
    "\n",
    "Python library - библиотека опций Python, гуглится первой ссылкой. На русском нет документации."
   ]
  },
  {
   "cell_type": "markdown",
   "id": "14e52c1e",
   "metadata": {},
   "source": [
    "Задача:\n",
    "\n",
    "**Обойти в цикле все строки, вытащить пробег, перевести его в мили и вывести на экран**"
   ]
  },
  {
   "cell_type": "code",
   "execution_count": 10,
   "id": "2cc6a396",
   "metadata": {},
   "outputs": [
    {
     "name": "stdout",
     "output_type": "stream",
     "text": [
      "3.0 л 450л.с. Бензин\n",
      "\n"
     ]
    }
   ],
   "source": [
    "mileage = cars[1].split(';')[1]\n",
    "mileage = float(''.join(mileage.replace(' км', '').split(' '))) * 0.621371\n",
    "price_rub = cars[1].split(';')[3]\n",
    "price_rub = ''.join(price_rub.replace(' ₽', '').split(' '))\n",
    "vol, power, fuel = cars[1].split(';')[-1].split('/')\n",
    "print(vol, power, fuel)"
   ]
  },
  {
   "cell_type": "code",
   "execution_count": 11,
   "id": "46fc5116",
   "metadata": {},
   "outputs": [],
   "source": [
    "f = open('cars_new.csv', 'w', encoding = 'MacCyrillic') # Создание csv-файла 'cars_new.csv'\n",
    "f.write('kmage;mileage;price_rub;price_usd;vol;power;fuel\\n') # Записываем шапку - в конце знак переноса '\\n'!\n",
    "\n",
    "KM_TO_MILE= 0.621371 # переменная для перевода км в мили (константы пишутся в верхнем регистре)\n",
    "RUB_TO_USD = 73.1925 # переменная для перевода рублей в доллары\n",
    "\n",
    "# Так как у нас есть строковый заголовок (cars[0]), который будет мешать преобразовывать данные в числа при выполнении цикла, \n",
    "# его (заголовок) можно убрать нескольскими способами: \n",
    "# cars[1:] - не оптимальное решение, так как загружает систему и оперативную память;\n",
    "# в первом блоке \"прочитать\" первую строку в \"никуда\" через readline()\n",
    "for value in cars:\n",
    "    kmage = value.split(';')[1]\n",
    "    try:\n",
    "        kmage = round(float(''.join(kmage.replace(' км', '').split(' '))))\n",
    "        mileage = round(kmage * KM_TO_MILE) # round() - округление вещественного числа до целого\n",
    "        \n",
    "    except:\n",
    "        kmage = float(kmage.replace('Новый', '0'))\n",
    "        mileage = kmage\n",
    "        \n",
    "    price_rub = value.split(';')[3]\n",
    "    # Символ ₽ в юникоде - '\\u20BD', где \\u - что в юникоде, а 20BD - код символа (можно гуглить). \n",
    "    # Лучше указывать '\\u20BD', так как при пересыле символ может \"сломаться\"\n",
    "    price_rub = int(''.join(price_rub.replace(' ₽', '').split(' ')))\n",
    "    price_usd = price_rub / RUB_TO_USD\n",
    "    \n",
    "    # Прикол в том, что у нас одним делением можно получить сразу 3 переменных.\n",
    "    # Главное - соблюдать последовательность (3.0 л/450л.с./Бензин -> объем, мощность, топливо):\n",
    "    vol, power, fuel = value.split(';')[-1].split('/') \n",
    "    \n",
    "    vol = float(vol.replace(' л', ''))\n",
    "    power = int(power.replace('л.с.', ''))\n",
    "    # Важно, чтобы в конце строки был символ переноса '\\n', он есть в переменной fuel\n",
    "    s = f\"{kmage};{mileage};{price_rub};{price_usd:0.4f};{vol};{power};{fuel}\".replace('.',',')\n",
    "    # :l.nf - управляет количеством знаков после запятой (n) и длиной строки (l);\n",
    "    # :0.4f - если 0 в длине строки, длина равна записи; если задаем длину, запись короче будет с пробелами спереди\n",
    "    #print(s)\n",
    "    f.write(s) # Записываем сформированную выше строку на каждом шаге цикла\n",
    "\n",
    "f.close()\n",
    "# Обязательно закрываем процесс (ну или не обязательно)\n",
    "# Видео остановила на 3:51ч"
   ]
  },
  {
   "cell_type": "markdown",
   "id": "a38d1b71",
   "metadata": {},
   "source": [
    "Функция `filter(функция, итерируемый объект)` - фильтр применяет функцию к итерируемому объекту.\n",
    "\n",
    "`filter(str.isdigit, s)` вернет список только тех элементов из s, которые в str.isdigit == True"
   ]
  },
  {
   "cell_type": "code",
   "execution_count": 12,
   "id": "46e60dfe",
   "metadata": {},
   "outputs": [
    {
     "data": {
      "text/plain": [
       "'5650000'"
      ]
     },
     "execution_count": 12,
     "metadata": {},
     "output_type": "execute_result"
    }
   ],
   "source": [
    "s = '5 650 000 ₽'\n",
    "s = \"\".join(filter(str.isdigit, s))\n",
    "s"
   ]
  },
  {
   "cell_type": "markdown",
   "id": "3ed742df",
   "metadata": {},
   "source": [
    "## Из Питона в csv\n",
    "\n",
    "Функция `zip()` как бы попарно соединяет списки, записанные в ее аргумент. Если списки разной длины, функция отработает по короткому списку. Чтобы работало по длинному, нужна функция `zip_longest()`"
   ]
  },
  {
   "cell_type": "code",
   "execution_count": 13,
   "id": "44da286f",
   "metadata": {},
   "outputs": [
    {
     "name": "stdout",
     "output_type": "stream",
     "text": [
      "12;1.43\n",
      "\n",
      "34;54\n",
      "\n",
      "56;73\n",
      "\n",
      "51;3.14\n",
      "\n",
      "89;-14\n",
      "\n",
      "69;0\n",
      "\n",
      "[(12, 1.43), (34, 54), (56, 73), (51, 3.14), (89, -14), (69, 0)]\n"
     ]
    }
   ],
   "source": [
    "# есть такие списки:\n",
    "a = [12, 34, 56, 51, 89, 69]\n",
    "b = [1.43, 54, 73, 3.14, -14, 0]\n",
    "\n",
    "# Хотим их записать в csv-файл.\n",
    "f = open('data.csv', 'w')\n",
    "f.write('a;b\\n') # Записываем шапку\n",
    "\n",
    "# Для записи данных мы с помощью zip() одновременно берем a[0] и b[0], a[1] и b[1] и так далее:\n",
    "for ai, bi in zip(a, b):\n",
    "    #print(ai, bi)\n",
    "    #s = str(ai) + ',' + str(bi.replace(',', '.')) + '\\n'\n",
    "    s = f'{ai};{bi}\\n'.replace(',', '.') # или таким образом через Ф-строку\n",
    "    # Внутри {} нельзя написать replace()\n",
    "    print(s)\n",
    "    f.write(s) # Записьм файла в csv\n",
    "    \n",
    "f.close() # Обязательно надо закрыть процесс, иначе файл будет пустой при просмотре\n",
    "\n",
    "print(list(zip(a, b)))"
   ]
  },
  {
   "cell_type": "markdown",
   "id": "3c86731e",
   "metadata": {},
   "source": [
    "## Работаем с excel напрямую"
   ]
  },
  {
   "cell_type": "code",
   "execution_count": 14,
   "id": "360af463",
   "metadata": {},
   "outputs": [],
   "source": [
    "import openpyxl # Библиотека для рагрузки файлов excel"
   ]
  },
  {
   "cell_type": "code",
   "execution_count": 15,
   "id": "88b8f5c3",
   "metadata": {},
   "outputs": [],
   "source": [
    "# Создадим файл excel\n",
    "\n",
    "wb = openpyxl.Workbook() # Книга excel\n",
    "ws = wb.active # ссылка-указатель на текущий лист\n",
    "ws['A1'] = 'hello'\n",
    "ws['B1'] = 'hi'\n",
    "\n",
    "\n",
    "\n",
    "wb.save('example.xlsx') # В корневой папке появится сохраненный файл example.xlsx, \n",
    "                        # где в ячейке А1 записано hello, а в ячейке В1 - hi\n",
    "    \n",
    "for row in ws['A2':'B11']: # Для строчки в заданном диапазоне ячеек:\n",
    "    for cell in row:       # для ячейки в строчке\n",
    "        cell.value = 0     # присвоить значение ячейке = 0\n",
    "        \n",
    "wb.save('example.xlsx') # В корневой папке появится сохраненный файл example.xlsx, \n",
    "                        # где, кроме hello и hi, в ячейках А2-В11 появился 0\n"
   ]
  },
  {
   "cell_type": "code",
   "execution_count": 16,
   "id": "6795cc3c",
   "metadata": {},
   "outputs": [
    {
     "name": "stdout",
     "output_type": "stream",
     "text": [
      "[12, 34, 56, 51, 89, 69] [1.43, 54, 73, 3.14, -14, 0]\n"
     ]
    },
    {
     "data": {
      "text/plain": [
       "12"
      ]
     },
     "execution_count": 16,
     "metadata": {},
     "output_type": "execute_result"
    }
   ],
   "source": [
    "print(a, b) # Запишем эти списки в excel-файл\n",
    "a[0]"
   ]
  },
  {
   "cell_type": "code",
   "execution_count": 17,
   "id": "0d239bcd",
   "metadata": {},
   "outputs": [],
   "source": [
    "# Два варианта написания цикла для записи списка в excel-файл:\n",
    "\n",
    "# Первый вариант: с итерированию по индексу в списке\n",
    "i = 0                       # задаем начальное значение индекса\n",
    "for row in ws['C2':'C7']:   # цикл для строк в заданном диапазоне excel, кол-во ячеек = кол-во элементов списка\n",
    "    for cell in row:\n",
    "        cell.value = a[i]   # записываем в ячейку элемент списка по индексу\n",
    "    i += 1                  # на выходе из подцикла прибавляем к индексу 1, чтобы записать следуюший элемент списка\n",
    "\n",
    "# Второй вариант с использованием zip()\n",
    "# Список указывается первым, так как он короче и для zip() он будет ограничителем. Иначе выпадет ошибка.\n",
    "for bi, cell in zip(b, ws['D']):       # Указываем список и диапазон просто буквой D (по сути D11). \n",
    "    cell.value = bi               # Здесь подцикл не нужен, когда мы указываем просто колонку 'D'\n",
    "wb.save('example.xlsx')"
   ]
  },
  {
   "cell_type": "code",
   "execution_count": 18,
   "id": "48393c0d",
   "metadata": {},
   "outputs": [],
   "source": [
    "# Хотим записать формулу в excel:\n",
    "\n",
    "ws['C12'] = '=SUM(C2:C11)' # присваиваем ячейке формулу как мы бы ее написали в ней на английском языке\n",
    "\n",
    "# запишем формулу в колонку (протянутую через всю колонку):\n",
    "j = 1\n",
    "for cell in ws['E']:\n",
    "    cell.value = f'=D{j} * 2' # Записись с помощью F-строки для перебора ячеек в excel-файле\n",
    "    j += 1\n",
    "\n",
    "wb.save('example.xlsx')"
   ]
  },
  {
   "cell_type": "code",
   "execution_count": 19,
   "id": "b528f7e7",
   "metadata": {},
   "outputs": [],
   "source": [
    "# Теперь хотим сделать оформление документа:\n",
    "header_font = openpyxl.styles.Font(bold=True, color='800000')\n",
    "# color='800000' - темно-красный, кодировка цвета RRGGBB (красный, красный, зеленый, зеленый, синий, синий)\n",
    "\n",
    "ws['A1'].font = header_font # Шрифт в яейке А1 поменяется на темно-красный и станет жирным\n",
    "wb.save('example.xlsx')"
   ]
  },
  {
   "cell_type": "markdown",
   "id": "515128a0",
   "metadata": {},
   "source": [
    "### Задача на создание файла excel и работа с другими форматами файлов"
   ]
  },
  {
   "cell_type": "markdown",
   "id": "9755fa7b",
   "metadata": {},
   "source": [
    "Формат, где колонки отделены друг от друга пробелами. Они могут быть выровняны по левому или правому краю. Такой формат файа иногда называют FWF.\n",
    "\n",
    "Рассмотрим формат файла, где колонки разделены между собой символами и пробелами, иммитирующими таблицу такого типа:\n",
    "\n",
    "|. text.  |  123   | something else |\n",
    "-------------------------------------\n",
    "| text.  | 456.  |     another            |\n",
    "-------------------------------------\n"
   ]
  },
  {
   "cell_type": "code",
   "execution_count": 20,
   "id": "7dff9070",
   "metadata": {},
   "outputs": [],
   "source": [
    "s = '|10.04.15|   0.649| 152.72| 153.36|    -  |   0.64| 48.7| 44.4|  4.3|  0.11| 23.89|E      |'"
   ]
  },
  {
   "cell_type": "code",
   "execution_count": 21,
   "id": "2ef6747d",
   "metadata": {},
   "outputs": [
    {
     "data": {
      "text/plain": [
       "'44.4'"
      ]
     },
     "execution_count": 21,
     "metadata": {},
     "output_type": "execute_result"
    }
   ],
   "source": [
    "float(s[51:56]) # в срезе получаем значение t1 из файла \"отопление\", преобразовываем его в число\n",
    "s[58:62]        # в срезе получаем значение t2 из файла \"отопление\""
   ]
  },
  {
   "cell_type": "code",
   "execution_count": 22,
   "id": "3a2cb8a2",
   "metadata": {},
   "outputs": [
    {
     "data": {
      "text/plain": [
       "' 49.3'"
      ]
     },
     "execution_count": 22,
     "metadata": {},
     "output_type": "execute_result"
    }
   ],
   "source": [
    "t = open(\n",
    "    '/Users/Anastasia/Documents/Бизнес_анализ_Python/code/Датасеты/Отопление.txt',\n",
    "    encoding = 'MacCyrillic')\n",
    "temp = t.readlines()[14:44] # записываем только строки с 14 по 44, так как именно там нужная нам информация\n",
    "temp[0][51:56]"
   ]
  },
  {
   "cell_type": "code",
   "execution_count": 23,
   "id": "b5c0c427",
   "metadata": {},
   "outputs": [],
   "source": [
    "# Функция для перевода Цельсиев в Фаренгейты:\n",
    "def c_to_f(c):\n",
    "    return (c * 9/5) + 32"
   ]
  },
  {
   "cell_type": "code",
   "execution_count": 24,
   "id": "b7c71ac4",
   "metadata": {},
   "outputs": [
    {
     "name": "stdout",
     "output_type": "stream",
     "text": [
      "01.04.15\n"
     ]
    }
   ],
   "source": [
    "data = [] # Будем создавать список кортежей\n",
    "for t in temp:\n",
    "    t1 = float(t[51:56])\n",
    "    t2 = float(t[58:62])\n",
    "    t1_fr = round(c_to_f(t1), 2)\n",
    "    t2_fr = round(c_to_f(t2), 2)\n",
    "    d = t[1:9]\n",
    "    row = (d, t1, t2, t1_fr, t2_fr)\n",
    "    data.append(row)\n",
    "    \n",
    "print(data[0][0])"
   ]
  },
  {
   "cell_type": "code",
   "execution_count": 25,
   "id": "4b002eca",
   "metadata": {},
   "outputs": [],
   "source": [
    "wb = openpyxl.Workbook() # Книга excel\n",
    "ws = wb.active # ссылка-указатель на текущий лист\n",
    "\n",
    "# Цикл проходится по строкам сформированной таблице data с кортежами и по строкам excel-файла\n",
    "for data_row, excel_row in zip(data, ws.iter_rows(                          # метод итериции из библиотеки openpyxl\n",
    "                                                min_row = 2,                # начинаем со второй строки excel\n",
    "                                                min_col = 1,                # с первой колонки (А)\n",
    "                                                max_col = 1 + len(data[0]), # крайняя колонка= 1+кол-во эл-тов кортежа\n",
    "                                                max_row = 2 + len(data))    # крайняя строка= 1+кол-во кортежей в data\n",
    "                              ):\n",
    "    for value, cell in zip(data_row, excel_row): # Проходимся по значениям кортежа и ячекам файла\n",
    "        cell.value = value                       # Присваиваем ячейкам значения элементов кортежа\n",
    "\n",
    "headers = ['Дата', 't1 C', 't2 C', 't1 F', 't2 F'] # Создаем заголовки таблицы\n",
    "\n",
    "for name, cell in zip(headers, ws[1]): # Присваиваем значения первой строки листа\n",
    "    cell.value = name\n",
    "\n",
    "\n",
    "wb.save('temp_c_f.xlsx')"
   ]
  },
  {
   "cell_type": "markdown",
   "id": "fe1d5b07",
   "metadata": {},
   "source": [
    "`>>> for row in ws.iter_rows(min_row=1, max_col=3, max_row=2):\n",
    "...    for cell in row:\n",
    "...        print(cell)\n",
    "<Cell Sheet1.A1>\n",
    "<Cell Sheet1.B1>\n",
    "<Cell Sheet1.C1>\n",
    "<Cell Sheet1.A2>\n",
    "<Cell Sheet1.B2>\n",
    "<Cell Sheet1.C2>`\n",
    "Здесь видим цикл, проходящий по ячейкам с А1 по С2 (2 строки, 3 колонки)\n",
    "\n",
    "Еще про кортежи. *Кортеж* - **неизменяемый** тип данных, после его создания нет возможности изменить его элементы, добавить их или удалить. Удалить можно лишь сам кортеж целиком. Обращаться к его элементам можно так же как к элементам списка."
   ]
  },
  {
   "cell_type": "code",
   "execution_count": 26,
   "id": "e8cf51ba",
   "metadata": {
    "scrolled": true
   },
   "outputs": [
    {
     "name": "stdout",
     "output_type": "stream",
     "text": [
      "[['Дата', '01.04.15', '02.04.15', '03.04.15', '04.04.15', '05.04.15', '06.04.15', '07.04.15', '08.04.15', '09.04.15', '10.04.15', '11.04.15', '12.04.15', '13.04.15', '14.04.15', '15.04.15', '16.04.15', '17.04.15', '18.04.15', '19.04.15', '20.04.15', '21.04.15', '22.04.15', '23.04.15', '24.04.15', '25.04.15', '26.04.15', '27.04.15', '28.04.15', '29.04.15', '30.04.15'], ['Температура_1 в цельсиях', 49.3, 48.2, 48.7, 50.2, 50.2, 49.4, 49.4, 48.1, 48.1, 48.7, 48.0, 46.9, 48.1, 49.3, 46.8, 42.8, 35.6, 39.7, 39.2, 39.1, 40.9, 42.1, 39.9, 41.3, 43.3, 43.5, 43.0, 42.9, 43.0, 43.2], ['Температура_2 в цельсиях', 44.9, 44.0, 44.4, 45.5, 45.5, 45.0, 45.4, 44.3, 43.6, 44.4, 45.3, 44.7, 45.5, 46.4, 44.4, 41.6, 35.3, 38.4, 37.9, 37.9, 39.2, 40.5, 38.9, 39.5, 36.5, 36.8, 38.5, 39.6, 40.0, 39.8], ['Температура_1 в фаренгейтах', 120.74, 118.76, 119.66, 122.36, 122.36, 120.92, 120.92, 118.58, 118.58, 119.66, 118.4, 116.42, 118.58, 120.74, 116.24, 109.04, 96.08, 103.46, 102.56, 102.38, 105.62, 107.78, 103.82, 106.34, 109.94, 110.3, 109.4, 109.22, 109.4, 109.76], ['Температура_2 в фаренгейтах', 112.82, 111.2, 111.92, 113.9, 113.9, 113.0, 113.72, 111.74, 110.48, 111.92, 113.54, 112.46, 113.9, 115.52, 111.92, 106.88, 95.54, 101.12, 100.22, 100.22, 102.56, 104.9, 102.02, 103.1, 97.7, 98.24, 101.3, 103.28, 104.0, 103.64]]\n"
     ]
    }
   ],
   "source": [
    "# Вариант с использованием списка списков и с итерацией по колонкам:\n",
    "data_new = [] \n",
    "list_d = ['Дата']\n",
    "list_t1 = ['Температура_1 в цельсиях']\n",
    "list_t2 = ['Температура_2 в цельсиях']\n",
    "list_t1_fr = ['Температура_1 в фаренгейтах']\n",
    "list_t2_fr = ['Температура_2 в фаренгейтах']\n",
    "\n",
    "for t in temp:\n",
    "    t1 = float(t[51:56])\n",
    "    t2 = float(t[58:62])\n",
    "    t1_fr = round(c_to_f(t1), 2)\n",
    "    t2_fr = round(c_to_f(t2), 2)\n",
    "    d = t[1:9]\n",
    "    list_d.append(d)\n",
    "    list_t1.append(t1)\n",
    "    list_t2.append(t2)\n",
    "    list_t1_fr.append(t1_fr)\n",
    "    list_t2_fr.append(t2_fr)\n",
    "    \n",
    "data_new.extend([list_d, list_t1, list_t2, list_t1_fr, list_t2_fr])\n",
    "print(data_new)"
   ]
  },
  {
   "cell_type": "code",
   "execution_count": 27,
   "id": "d4b0b82d",
   "metadata": {},
   "outputs": [],
   "source": [
    "wb = openpyxl.Workbook() # Книга excel\n",
    "ws = wb.active # ссылка-указатель на текущий лист\n",
    "\n",
    "# Цикл проходится по спискам списков и колонам excel-файла\n",
    "# занимаем ячейки для заполнения: 5 колонок (кол-во подсписков в списке), 31 строка (кол-во элементов в каждом подсписке)\n",
    "for data_new_col, excel_col in zip(data_new, ws.iter_cols(min_row=1, max_col=5, max_row=31)):\n",
    "    for value, cell in zip(data_new_col, excel_col):\n",
    "        cell.value = value\n",
    "        \n",
    "# нет необходимости писать цикл для заполнения шапки таблицы, названия включены в подсписки колонок\n",
    "\n",
    "wb.save('temp_c_f_new.xlsx')"
   ]
  },
  {
   "cell_type": "code",
   "execution_count": 28,
   "id": "388027c8",
   "metadata": {},
   "outputs": [
    {
     "data": {
      "text/plain": [
       "dict_keys(['Дата', 't1 C', 't2 C', 't1 F', 't2 F'])"
      ]
     },
     "execution_count": 28,
     "metadata": {},
     "output_type": "execute_result"
    }
   ],
   "source": [
    "# Вариант с использованием словаря и с итерацией по колонкам:\n",
    "dict_new = {}\n",
    "dict_list_d = []\n",
    "dict_list_t1 = []\n",
    "dict_list_t2 = []\n",
    "dict_list_t1_fr = []\n",
    "dict_list_t2_fr = []\n",
    "\n",
    "for t in temp:\n",
    "    d = t[1:9]\n",
    "    dict_list_d.append(d)\n",
    "    dict_new['Дата'] = dict_list_d\n",
    "    t1 = float(t[51:56])\n",
    "    dict_list_t1.append(t1)\n",
    "    dict_new['t1 C'] = dict_list_t1\n",
    "    t2 = float(t[58:62])\n",
    "    dict_list_t2.append(t2)\n",
    "    dict_new['t2 C'] = dict_list_t2\n",
    "    t1_fr = round(c_to_f(t1), 2)\n",
    "    dict_list_t1_fr.append(t1_fr)\n",
    "    dict_new['t1 F'] = dict_list_t1_fr\n",
    "    t2_fr = round(c_to_f(t2), 2)\n",
    "    dict_list_t2_fr.append(t2_fr)\n",
    "    dict_new['t2 F'] = dict_list_t2_fr\n",
    "    \n",
    "#data_new.extend([list_d, list_t1, list_t2, list_t1_fr, list_t2_fr])\n",
    "dict_new.keys()"
   ]
  },
  {
   "cell_type": "code",
   "execution_count": 29,
   "id": "c652d137",
   "metadata": {},
   "outputs": [],
   "source": [
    "wb = openpyxl.Workbook() # Книга excel\n",
    "ws = wb.active # ссылка-указатель на текущий лист\n",
    "\n",
    "# Цикл проходится по словарю с методом items() и колонам excel-файла\n",
    "# занимаем ячейки для заполнения: 5 колонок (кол-во подсписков в списке), 31 строка (кол-во элементов в каждом подсписке)\n",
    "for (cols, values), excel_col in zip(dict_new.items(), ws.iter_cols(min_row=2, max_col=5, max_row=32)):\n",
    "    for value, cell in zip(values, excel_col):\n",
    "        cell.value = value\n",
    "        \n",
    "for name, cell in zip(dict_new, ws[1]): # Присваиваем значения первой строки листа\n",
    "    cell.value = name\n",
    "    \n",
    "wb.save('temp_c_f_dict.xlsx')"
   ]
  },
  {
   "cell_type": "markdown",
   "id": "6c7be82d",
   "metadata": {},
   "source": [
    "В принципе, понятно, что метод по строкам в рамках данной задачи наиболее удобен, но я хотела посмотреть еще другие варианты записи данных в excel-файл."
   ]
  },
  {
   "cell_type": "markdown",
   "id": "6e82ea55",
   "metadata": {},
   "source": [
    "### Даты с точки зрения Python"
   ]
  },
  {
   "cell_type": "code",
   "execution_count": 30,
   "id": "510f434a",
   "metadata": {},
   "outputs": [],
   "source": [
    "import dateutil\n",
    "import datetime as dt"
   ]
  },
  {
   "cell_type": "code",
   "execution_count": 31,
   "id": "dfc0e997",
   "metadata": {},
   "outputs": [],
   "source": [
    "d = ['30.04.15', '10.01.15', '22.03.15', '01.11.15']"
   ]
  },
  {
   "cell_type": "code",
   "execution_count": 32,
   "id": "81b9d4ca",
   "metadata": {},
   "outputs": [
    {
     "data": {
      "text/plain": [
       "['01.11.15', '10.01.15', '22.03.15', '30.04.15']"
      ]
     },
     "execution_count": 32,
     "metadata": {},
     "output_type": "execute_result"
    }
   ],
   "source": [
    "sorted(d) # сортировка происходит не по дате, так как python не понимает, что это даты и сортирует в алфавитном порядке"
   ]
  },
  {
   "cell_type": "markdown",
   "id": "a48309d3",
   "metadata": {},
   "source": [
    "В `datetime` есть 2 объекта: \n",
    "- дата (просто день)\n",
    "- временная отметка `timestamp`"
   ]
  },
  {
   "cell_type": "code",
   "execution_count": 33,
   "id": "4bd57db1",
   "metadata": {},
   "outputs": [
    {
     "name": "stdout",
     "output_type": "stream",
     "text": [
      "2021-01-01 2021-08-21\n"
     ]
    }
   ],
   "source": [
    "d1 = dt.date(2021, 1, 1) # yr, mnth, dd\n",
    "d2 = dt.date.today()\n",
    "print(d1, d2)"
   ]
  },
  {
   "cell_type": "markdown",
   "id": "eebd9306",
   "metadata": {},
   "source": [
    "При формировании даты `dt.date(2021, 1, 1)` необходимо в строгом порядке указывать **год, месяц, день**\n",
    "\n",
    "`dt.date.today()` берет дату с компа. Если на компе дата сбилась или неверно настроена, он выдаст именно эту.\n",
    "\n",
    "Дату можно создать из строки, но тогда она должны быть записана в формате ISO: ГГГГ-ММ-ДД. C другими типами записи не сработает"
   ]
  },
  {
   "cell_type": "code",
   "execution_count": 34,
   "id": "36506e01",
   "metadata": {},
   "outputs": [
    {
     "name": "stdout",
     "output_type": "stream",
     "text": [
      "True\n",
      "232 days, 0:00:00\n",
      "2021-11-29\n"
     ]
    }
   ],
   "source": [
    "print(d2 > d1) # Даты можно сравнивать\n",
    "print(d2 - d1) # Даты можно вычитать друг из друга и получатся дни\n",
    "print(d2 + dt.timedelta(days = 100)) "
   ]
  },
  {
   "cell_type": "markdown",
   "id": "64acd9a6",
   "metadata": {},
   "source": [
    "Выражение `d2 + dt.timedelta(days = 100)` может добавить или вычесть какой-то временной промежуток из имеющейся даты. В аргументе можно указать количество недель, дней, часов, минут, секунд, мили и микросекунд:\n",
    "\n",
    "`delta = datetime.timedelta(days=0, \n",
    "                           seconds=0, \n",
    "                           microseconds=0, \n",
    "                           milliseconds=0, \n",
    "                           minutes=0, \n",
    "                           hours=0, \n",
    "                           weeks=0)`"
   ]
  },
  {
   "cell_type": "code",
   "execution_count": 35,
   "id": "f4bee918",
   "metadata": {},
   "outputs": [
    {
     "name": "stdout",
     "output_type": "stream",
     "text": [
      "21.08.21 \n",
      " 21/08/2021 \n",
      " 08 - месяц; 21 - день; 21 - год\n",
      "<class 'datetime.date'> <class 'str'>\n"
     ]
    }
   ],
   "source": [
    "# Меняем формат записи даты:\n",
    "print(d2.strftime('%d.%m.%y'), '\\n', \n",
    "      d2.strftime('%d/%m/%Y'), '\\n', # Y (верхнего регистра) - 4 цифры в годе\n",
    "      d2.strftime('%m - месяц; %d - день; %y - год')\n",
    "     )\n",
    "\n",
    "print(type(d2), type(d2.strftime('%d.%m.%y'))) # тип даты в этом случае уже не datetime.date, а str"
   ]
  },
  {
   "cell_type": "markdown",
   "id": "c860d194",
   "metadata": {},
   "source": [
    "`strftime()` - метод преобразования формата записи даты. В документации можно посмотреть различные шаблоны записи:\n",
    "\n",
    "https://docs.python.org/3.8/library/datetime.html?highlight=strftime#strftime-strptime-behavior\n",
    "\n",
    "Кроме **datetime.date** существует формат **datetime.datetime** - дата + время:\n",
    "\n",
    "`class datetime.datetime(year, month, day, hour=0, minute=0, second=0, microsecond=0, tzinfo=None, *, fold=0)`"
   ]
  },
  {
   "cell_type": "code",
   "execution_count": 36,
   "id": "6a943210",
   "metadata": {},
   "outputs": [
    {
     "data": {
      "text/plain": [
       "datetime.datetime(2021, 8, 21, 10, 0, 11, 178843)"
      ]
     },
     "execution_count": 36,
     "metadata": {},
     "output_type": "execute_result"
    }
   ],
   "source": [
    "dt.datetime.now() # год, месяц, день, часы, минуты, секунды, микросекунды"
   ]
  },
  {
   "cell_type": "markdown",
   "id": "a06cad39",
   "metadata": {},
   "source": [
    "`dateutil` - пакет для перевода строковых данных в даты формата datetime.datetime, импортирован выше"
   ]
  },
  {
   "cell_type": "code",
   "execution_count": 37,
   "id": "d72b1f1f",
   "metadata": {},
   "outputs": [
    {
     "name": "stdout",
     "output_type": "stream",
     "text": [
      "2021-02-03 00:00:00\n",
      "2021-03-02 00:00:00\n",
      "2021-03-02 00:00:00\n",
      "2021-03-02 00:00:00\n"
     ]
    }
   ],
   "source": [
    "print(dateutil.parser.parse('02.03.2021')) # по умолчанию распознает в американском формате - 3 февраля, а не 2 марта\n",
    "print(dateutil.parser.parse('02.03.2021', dayfirst=True)) # атрибут \"переключающий\" на европейский манер записи даты\n",
    "print(dateutil.parser.parse('2021-03-02')) # с форматом ISO проблем не бывает\n",
    "print(dateutil.parser.parse('3/2/21'))"
   ]
  },
  {
   "cell_type": "code",
   "execution_count": 38,
   "id": "edcfe22a",
   "metadata": {},
   "outputs": [
    {
     "name": "stdout",
     "output_type": "stream",
     "text": [
      "2021-03-02\n",
      "<class 'datetime.date'>\n"
     ]
    }
   ],
   "source": [
    "print(dateutil.parser.parse('3/2/21').date()) # Переделываем в класс date\n",
    "print(type(dateutil.parser.parse('3/2/21').date()))"
   ]
  },
  {
   "cell_type": "code",
   "execution_count": 39,
   "id": "529d2299",
   "metadata": {},
   "outputs": [
    {
     "name": "stdout",
     "output_type": "stream",
     "text": [
      "01.04.15 2015-04-01 01/04/2015\n",
      "02.04.15 2015-04-02 02/04/2015\n",
      "03.04.15 2015-04-03 03/04/2015\n",
      "04.04.15 2015-04-04 04/04/2015\n",
      "05.04.15 2015-04-05 05/04/2015\n",
      "06.04.15 2015-04-06 06/04/2015\n",
      "07.04.15 2015-04-07 07/04/2015\n",
      "08.04.15 2015-04-08 08/04/2015\n",
      "09.04.15 2015-04-09 09/04/2015\n",
      "10.04.15 2015-04-10 10/04/2015\n",
      "11.04.15 2015-04-11 11/04/2015\n",
      "12.04.15 2015-04-12 12/04/2015\n",
      "13.04.15 2015-04-13 13/04/2015\n",
      "14.04.15 2015-04-14 14/04/2015\n",
      "15.04.15 2015-04-15 15/04/2015\n",
      "16.04.15 2015-04-16 16/04/2015\n",
      "17.04.15 2015-04-17 17/04/2015\n",
      "18.04.15 2015-04-18 18/04/2015\n",
      "19.04.15 2015-04-19 19/04/2015\n",
      "20.04.15 2015-04-20 20/04/2015\n",
      "21.04.15 2015-04-21 21/04/2015\n",
      "22.04.15 2015-04-22 22/04/2015\n",
      "23.04.15 2015-04-23 23/04/2015\n",
      "24.04.15 2015-04-24 24/04/2015\n",
      "25.04.15 2015-04-25 25/04/2015\n",
      "26.04.15 2015-04-26 26/04/2015\n",
      "27.04.15 2015-04-27 27/04/2015\n",
      "28.04.15 2015-04-28 28/04/2015\n",
      "29.04.15 2015-04-29 29/04/2015\n",
      "30.04.15 2015-04-30 30/04/2015\n"
     ]
    }
   ],
   "source": [
    "# В цикле пройдем по списку кортежей data и переведем запись даты в формат date\n",
    "for row in data:\n",
    "    d_str = row[0] # мы не можем менять row[0], так как он в кортеже!!!\n",
    "    d_datetime = dateutil.parser.parse(d_str, dayfirst=True).date()\n",
    "    print(d_str, d_datetime, d_datetime.strftime('%d/%m/%Y'))\n"
   ]
  },
  {
   "cell_type": "code",
   "execution_count": null,
   "id": "c7192dde",
   "metadata": {},
   "outputs": [],
   "source": []
  }
 ],
 "metadata": {
  "kernelspec": {
   "display_name": "Python 3",
   "language": "python",
   "name": "python3"
  },
  "language_info": {
   "codemirror_mode": {
    "name": "ipython",
    "version": 3
   },
   "file_extension": ".py",
   "mimetype": "text/x-python",
   "name": "python",
   "nbconvert_exporter": "python",
   "pygments_lexer": "ipython3",
   "version": "3.8.8"
  }
 },
 "nbformat": 4,
 "nbformat_minor": 5
}
